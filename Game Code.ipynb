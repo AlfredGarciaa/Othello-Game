{
 "cells": [
  {
   "cell_type": "code",
   "execution_count": 1,
   "id": "cfff34ff",
   "metadata": {},
   "outputs": [],
   "source": [
    "import numpy as np\n",
    "import copy\n",
    "from colorama import Fore, Back, Style"
   ]
  },
  {
   "cell_type": "code",
   "execution_count": 2,
   "id": "a32e03a7",
   "metadata": {},
   "outputs": [],
   "source": [
    "class colors:\n",
    "    reset='\\033[0m'\n",
    "    bold='\\033[01m'\n",
    "    disable='\\033[02m'\n",
    "    underline='\\033[04m'\n",
    "    reverse='\\033[07m'\n",
    "    strikethrough='\\033[09m'\n",
    "    invisible='\\033[08m'\n",
    "    class fg:\n",
    "        black='\\033[30m'\n",
    "        red='\\033[31m'\n",
    "        green='\\033[32m'\n",
    "        orange='\\033[33m'\n",
    "        blue='\\033[34m'\n",
    "        purple='\\033[35m'\n",
    "        cyan='\\033[36m'\n",
    "        lightgrey='\\033[37m'\n",
    "        darkgrey='\\033[90m'\n",
    "        lightred='\\033[91m'\n",
    "        lightgreen='\\033[92m'\n",
    "        yellow='\\033[93m'\n",
    "        lightblue='\\033[94m'\n",
    "        pink='\\033[95m'\n",
    "        lightcyan='\\033[96m'\n",
    "    class bg:\n",
    "        black='\\033[40m'\n",
    "        red='\\033[41m'\n",
    "        green='\\033[42m'\n",
    "        orange='\\033[43m'\n",
    "        blue='\\033[44m'\n",
    "        purple='\\033[45m'\n",
    "        cyan='\\033[46m'\n",
    "        lightgrey='\\033[47m'"
   ]
  },
  {
   "cell_type": "code",
   "execution_count": 3,
   "id": "fd4858f2",
   "metadata": {},
   "outputs": [],
   "source": [
    "def print_board(board):\n",
    "    print(colors.bg.black + colors.fg.lightblue+ \"   A   B   C   D   E   F   G   H   \")\n",
    "    count = 1\n",
    "    for row in board:\n",
    "        print(colors.fg.lightblue + str(count), end=\"  \")\n",
    "        count+=1\n",
    "        for cell in row:\n",
    "            if cell == 0:\n",
    "                print(colors.fg.green + \"█\", end=\"   \")\n",
    "            if cell == 1:\n",
    "                print(colors.fg.lightgrey + \"█\", end=\"   \")\n",
    "            if cell == -1:\n",
    "                print(colors.fg.black + \"█\", end=\"   \")\n",
    "            if cell == 3:\n",
    "                print(colors.fg.green + \"░\", end=\"   \")\n",
    "        print(\"\")"
   ]
  },
  {
   "cell_type": "code",
   "execution_count": 4,
   "id": "f82b41e5",
   "metadata": {},
   "outputs": [
    {
     "name": "stdout",
     "output_type": "stream",
     "text": [
      "hola\n"
     ]
    }
   ],
   "source": [
    "class State:\n",
    "    def __init__(self, *input):\n",
    "        self.origin = []\n",
    "        self.destin = None\n",
    "        self.heuristic = 0\n",
    "        self.pieces_taken = []\n",
    "        self.board = input[0]\n",
    "        self.utility = 0\n",
    "        if len(input)>1:\n",
    "            self.origin = input[0]\n",
    "            self.destin = input[1]\n",
    "            self.heuristic = input[2]\n",
    "            self.pieces_taken = input[3]\n",
    "            self.board = input[4]\n",
    "        \n",
    "    def list_actions(self,player):\n",
    "        token = 1\n",
    "        if player == \"min\" : token = -1\n",
    "        enemy_indexes = np.where(self.board == token)\n",
    "        enemy_coordinates= list(zip(enemy_indexes[0], enemy_indexes[1]))\n",
    "        return enemy_coordinates\n",
    "\n",
    "    def print_board_changes(self):\n",
    "        if type(self.origin) is list:\n",
    "            player_piece = self.board[self.origin[0][0]][self.origin[0][1]]\n",
    "        else:\n",
    "            player_piece = self.board[self.origin[0]][self.origin[1]]\n",
    "        for piece in self.pieces_taken:\n",
    "            self.board[piece[0]][piece[1]] = player_piece\n",
    "        self.board[self.destin[0]][self.destin[1]] = player_piece\n",
    "\n",
    "    def can_move_up(self, piece, board, player_piece):# 1 -> y  0 -> x\n",
    "        if piece[1] == 0: return False\n",
    "        if board[piece[0]][piece[1]-1] == player_piece: return False\n",
    "        if board[piece[0]][piece[1]-1] == player_piece*-1: return \"Enemy\"\n",
    "        return \"Empty\" #enemy found?\n",
    "\n",
    "    def can_move_down(self, piece, board, player_piece):\n",
    "        if piece[1] == 7: return False\n",
    "        if board[piece[0]][piece[1]+1] == player_piece: return False\n",
    "        if board[piece[0]][piece[1]+1] == player_piece*-1: return \"Enemy\"\n",
    "        return \"Empty\"\n",
    "    \n",
    "    def can_move_left(self, piece, board, player_piece):\n",
    "        if piece[0] == 0: return False\n",
    "        if board[piece[0]-1][piece[1]] == player_piece: return False\n",
    "        if board[piece[0]-1][piece[1]] == player_piece*-1: return \"Enemy\"\n",
    "        return \"Empty\"\n",
    "\n",
    "    def can_move_right(self, piece, board, player_piece):\n",
    "        if piece[0] ==7 : return False\n",
    "        if board[piece[0]+1][piece[1]] == player_piece: return False\n",
    "        if board[piece[0]+1][piece[1]] == player_piece*-1: \n",
    "            return \"Enemy\"\n",
    "        return \"Empty\""
   ]
  }
 ],
 "metadata": {
  "kernelspec": {
   "display_name": "Python 3 (ipykernel)",
   "language": "python",
   "name": "python3"
  },
  "language_info": {
   "codemirror_mode": {
    "name": "ipython",
    "version": 3
   },
   "file_extension": ".py",
   "mimetype": "text/x-python",
   "name": "python",
   "nbconvert_exporter": "python",
   "pygments_lexer": "ipython3",
   "version": "3.11.2"
  }
 },
 "nbformat": 4,
 "nbformat_minor": 5
}
